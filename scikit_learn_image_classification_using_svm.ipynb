{
  "nbformat": 4,
  "nbformat_minor": 0,
  "metadata": {
    "colab": {
      "name": "scikit learn image classification using svm.ipynb",
      "provenance": [],
      "authorship_tag": "ABX9TyOzWN/UljLDAJzfDSmi0sOk",
      "include_colab_link": true
    },
    "kernelspec": {
      "name": "python3",
      "display_name": "Python 3"
    }
  },
  "cells": [
    {
      "cell_type": "markdown",
      "metadata": {
        "id": "view-in-github",
        "colab_type": "text"
      },
      "source": [
        "<a href=\"https://colab.research.google.com/github/MLakshmiNarasimhan/miniproject/blob/master/scikit_learn_image_classification_using_svm.ipynb\" target=\"_parent\"><img src=\"https://colab.research.google.com/assets/colab-badge.svg\" alt=\"Open In Colab\"/></a>"
      ]
    },
    {
      "cell_type": "code",
      "metadata": {
        "id": "JlD7WFSHQLYD",
        "colab_type": "code",
        "colab": {}
      },
      "source": [
        "import numpy as np\n",
        "import pandas as pd \n",
        "from subprocess import check_output"
      ],
      "execution_count": null,
      "outputs": []
    },
    {
      "cell_type": "code",
      "metadata": {
        "id": "py93AlnfQZxX",
        "colab_type": "code",
        "colab": {}
      },
      "source": [
        "import matplotlib.pyplot as plt\n",
        "import numpy as np\n",
        "%matplotlib inline\n",
        "\n",
        "# Import datasets, classifiers and performance metrics\n",
        "from sklearn import datasets, svm, metrics"
      ],
      "execution_count": null,
      "outputs": []
    },
    {
      "cell_type": "code",
      "metadata": {
        "id": "xsaVa4wTRLXJ",
        "colab_type": "code",
        "colab": {
          "base_uri": "https://localhost:8080/",
          "height": 51
        },
        "outputId": "b34810db-455e-490d-df00-e90b0b2f7e09"
      },
      "source": [
        "digits = datasets.load_digits()\n",
        "print('Digits dataset keys \\n{}'.format(digits.keys()))"
      ],
      "execution_count": null,
      "outputs": [
        {
          "output_type": "stream",
          "text": [
            "Digits dataset keys \n",
            "dict_keys(['data', 'target', 'target_names', 'images', 'DESCR'])\n"
          ],
          "name": "stdout"
        }
      ]
    },
    {
      "cell_type": "code",
      "metadata": {
        "id": "aMM2gxlHRSXr",
        "colab_type": "code",
        "colab": {
          "base_uri": "https://localhost:8080/",
          "height": 102
        },
        "outputId": "0d5f50d9-6fe1-487a-c23d-86333558de96"
      },
      "source": [
        "print('dataset target name: \\n{}'.format(digits.target_names))\n",
        "print('shape of datset: {} \\nand target: {}'.format(digits.data.shape, digits.target.shape))\n",
        "print('shape of the images: {}'.format(digits.images.shape))"
      ],
      "execution_count": null,
      "outputs": [
        {
          "output_type": "stream",
          "text": [
            "dataset target name: \n",
            "[0 1 2 3 4 5 6 7 8 9]\n",
            "shape of datset: (1797, 64) \n",
            "and target: (1797,)\n",
            "shape of the images: (1797, 8, 8)\n"
          ],
          "name": "stdout"
        }
      ]
    },
    {
      "cell_type": "code",
      "metadata": {
        "id": "NBlF6JGTRWrW",
        "colab_type": "code",
        "colab": {
          "base_uri": "https://localhost:8080/",
          "height": 120
        },
        "outputId": "3ad37644-9cf5-472d-960a-ad0cf4aba91f"
      },
      "source": [
        "for i in range(0,4):\n",
        "    plt.subplot(2, 4,i + 1)\n",
        "    plt.axis('off')\n",
        "    imside = int(np.sqrt(digits.data[i].shape[0]))\n",
        "    im1 = np.reshape(digits.data[i],(imside,imside))\n",
        "    plt.imshow(im1, cmap=plt.cm.gray_r, interpolation='nearest')\n",
        "    plt.title('Training: {}'.format(digits.target[i]))\n",
        "plt.show()"
      ],
      "execution_count": null,
      "outputs": [
        {
          "output_type": "display_data",
          "data": {
            "image/png": "[encoded data removed]",
            "text/plain": [
              "<Figure size 432x288 with 4 Axes>"
            ]
          },
          "metadata": {
            "tags": [],
            "needs_background": "light"
          }
        }
      ]
    },
    {
      "cell_type": "code",
      "metadata": {
        "id": "IdYjimWoRgp1",
        "colab_type": "code",
        "colab": {}
      },
      "source": [
        "n_samples = len(digits.images)\n",
        "data_images = digits.images.reshape((n_samples, -1))"
      ],
      "execution_count": null,
      "outputs": []
    },
    {
      "cell_type": "code",
      "metadata": {
        "id": "t54zgZEvRt6Q",
        "colab_type": "code",
        "colab": {
          "base_uri": "https://localhost:8080/",
          "height": 85
        },
        "outputId": "60b46e7b-bb7e-4b23-b4f9-6405d4ab0f24"
      },
      "source": [
        "from sklearn.model_selection import train_test_split\n",
        "X_train, X_test, y_train, y_test = train_test_split(data_images,digits.target)\n",
        "print('Training data and target sizes: \\n{}, {}'.format(X_train.shape,y_train.shape))\n",
        "print('Test data and target sizes: \\n{}, {}'.format(X_test.shape,y_test.shape))"
      ],
      "execution_count": null,
      "outputs": [
        {
          "output_type": "stream",
          "text": [
            "Training data and target sizes: \n",
            "(1347, 64), (1347,)\n",
            "Test data and target sizes: \n",
            "(450, 64), (450,)\n"
          ],
          "name": "stdout"
        }
      ]
    },
    {
      "cell_type": "code",
      "metadata": {
        "id": "hFxLHr3XR7EW",
        "colab_type": "code",
        "colab": {
          "base_uri": "https://localhost:8080/",
          "height": 85
        },
        "outputId": "7d40232f-34ba-41fb-95d1-45c9c60784ce"
      },
      "source": [
        "classifier = svm.SVC(gamma=0.001)\n",
        "\n",
        "classifier.fit(X_train,y_train)"
      ],
      "execution_count": null,
      "outputs": [
        {
          "output_type": "execute_result",
          "data": {
            "text/plain": [
              "SVC(C=1.0, break_ties=False, cache_size=200, class_weight=None, coef0=0.0,\n",
              "    decision_function_shape='ovr', degree=3, gamma=0.001, kernel='rbf',\n",
              "    max_iter=-1, probability=False, random_state=None, shrinking=True,\n",
              "    tol=0.001, verbose=False)"
            ]
          },
          "metadata": {
            "tags": []
          },
          "execution_count": 13
        }
      ]
    },
    {
      "cell_type": "code",
      "metadata": {
        "id": "2Rul4tfPSBq9",
        "colab_type": "code",
        "colab": {}
      },
      "source": [
        "y_pred = classifier.predict(X_test)"
      ],
      "execution_count": null,
      "outputs": []
    },
    {
      "cell_type": "code",
      "metadata": {
        "id": "9PqgsAyaSHNq",
        "colab_type": "code",
        "colab": {
          "base_uri": "https://localhost:8080/",
          "height": 391
        },
        "outputId": "59ce3947-90e9-4f44-ca92-14c7a1268002"
      },
      "source": [
        "print(\"Classification report for classifier %s:\\n%s\\n\"\n",
        "      % (classifier, metrics.classification_report(y_test, y_pred)))"
      ],
      "execution_count": null,
      "outputs": [
        {
          "output_type": "stream",
          "text": [
            "Classification report for classifier SVC(C=1.0, break_ties=False, cache_size=200, class_weight=None, coef0=0.0,\n",
            "    decision_function_shape='ovr', degree=3, gamma=0.001, kernel='rbf',\n",
            "    max_iter=-1, probability=False, random_state=None, shrinking=True,\n",
            "    tol=0.001, verbose=False):\n",
            "              precision    recall  f1-score   support\n",
            "\n",
            "           0       1.00      1.00      1.00        50\n",
            "           1       0.98      0.98      0.98        52\n",
            "           2       1.00      1.00      1.00        44\n",
            "           3       1.00      1.00      1.00        47\n",
            "           4       1.00      1.00      1.00        43\n",
            "           5       1.00      1.00      1.00        35\n",
            "           6       1.00      1.00      1.00        50\n",
            "           7       1.00      1.00      1.00        44\n",
            "           8       0.98      0.98      0.98        45\n",
            "           9       1.00      1.00      1.00        40\n",
            "\n",
            "    accuracy                           1.00       450\n",
            "   macro avg       1.00      1.00      1.00       450\n",
            "weighted avg       1.00      1.00      1.00       450\n",
            "\n",
            "\n"
          ],
          "name": "stdout"
        }
      ]
    },
    {
      "cell_type": "code",
      "metadata": {
        "id": "KwUukPPSSQSx",
        "colab_type": "code",
        "colab": {
          "base_uri": "https://localhost:8080/",
          "height": 204
        },
        "outputId": "c4561510-eb73-4318-cda3-45f262444b45"
      },
      "source": [
        "print(\"Confusion matrix:\\n%s\" % metrics.confusion_matrix(y_test, y_pred))"
      ],
      "execution_count": null,
      "outputs": [
        {
          "output_type": "stream",
          "text": [
            "Confusion matrix:\n",
            "[[50  0  0  0  0  0  0  0  0  0]\n",
            " [ 0 51  0  0  0  0  0  0  1  0]\n",
            " [ 0  0 44  0  0  0  0  0  0  0]\n",
            " [ 0  0  0 47  0  0  0  0  0  0]\n",
            " [ 0  0  0  0 43  0  0  0  0  0]\n",
            " [ 0  0  0  0  0 35  0  0  0  0]\n",
            " [ 0  0  0  0  0  0 50  0  0  0]\n",
            " [ 0  0  0  0  0  0  0 44  0  0]\n",
            " [ 0  1  0  0  0  0  0  0 44  0]\n",
            " [ 0  0  0  0  0  0  0  0  0 40]]\n"
          ],
          "name": "stdout"
        }
      ]
    }
  ]
}